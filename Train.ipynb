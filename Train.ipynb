{
  "cells": [
    {
      "cell_type": "code",
      "execution_count": null,
      "id": "dressed-stereo",
      "metadata": {
        "id": "dressed-stereo"
      },
      "outputs": [],
      "source": [
        "import torch\n",
        "import torchvision\n",
        "from torchvision import transforms\n",
        "import torchmetrics\n",
        "import pytorch_lightning as pl\n",
        "from pytorch_lightning.callbacks import ModelCheckpoint\n",
        "from pytorch_lightning.loggers import TensorBoardLogger\n",
        "from tqdm.notebook import tqdm\n",
        "import numpy as np\n",
        "import matplotlib.pyplot as plt"
      ]
    },
    {
      "cell_type": "code",
      "execution_count": null,
      "id": "certified-canadian",
      "metadata": {
        "id": "certified-canadian"
      },
      "outputs": [],
      "source": [
        "def load_file(path):\n",
        "    return np.load(path).astype(np.float32)"
      ]
    },
    {
      "cell_type": "code",
      "execution_count": null,
      "id": "explicit-plumbing",
      "metadata": {
        "id": "explicit-plumbing"
      },
      "outputs": [],
      "source": [
        "train_transforms = transforms.Compose([\n",
        "                                    transforms.ToTensor(),  \n",
        "                                    transforms.Normalize(0.49, 0.248),  \n",
        "                                    transforms.RandomAffine( \n",
        "                                        degrees=(-5, 5), translate=(0, 0.05), scale=(0.9, 1.1)),\n",
        "                                        transforms.RandomResizedCrop((224, 224), scale=(0.35, 1))\n",
        "\n",
        "])\n",
        "\n",
        "val_transforms = transforms.Compose([\n",
        "                                    transforms.ToTensor(),  \n",
        "                                    transforms.Normalize([0.49], [0.248]),  \n",
        "])\n",
        "\n",
        "\n"
      ]
    },
    {
      "cell_type": "code",
      "execution_count": null,
      "id": "basic-scholarship",
      "metadata": {
        "id": "basic-scholarship"
      },
      "outputs": [],
      "source": [
        "train_dataset = torchvision.datasets.DatasetFolder(\n",
        "    \"Processed/train/\",\n",
        "    loader=load_file, extensions=\"npy\", transform=train_transforms)\n",
        "\n",
        "val_dataset = torchvision.datasets.DatasetFolder(\n",
        "    \"Processed/val/\",\n",
        "    loader=load_file, extensions=\"npy\", transform=val_transforms)\n"
      ]
    },
    {
      "cell_type": "code",
      "execution_count": null,
      "id": "imported-september",
      "metadata": {
        "id": "imported-september"
      },
      "outputs": [],
      "source": [
        "fig, axis = plt.subplots(2, 2, figsize=(9, 9))\n",
        "for i in range(2):\n",
        "    for j in range(2):\n",
        "        random_index = np.random.randint(0, 20000)\n",
        "        x_ray, label = train_dataset[random_index]\n",
        "        axis[i][j].imshow(x_ray[0], cmap=\"bone\")\n",
        "        axis[i][j].set_title(f\"Label:{label}\")\n"
      ]
    },
    {
      "cell_type": "code",
      "execution_count": null,
      "id": "static-boards",
      "metadata": {
        "id": "static-boards"
      },
      "outputs": [],
      "source": [
        "batch_size = 64\n",
        "num_workers = 4\n",
        "\n",
        "train_loader = torch.utils.data.DataLoader(train_dataset, batch_size=batch_size, num_workers=num_workers, shuffle=True)\n",
        "val_loader = torch.utils.data.DataLoader(val_dataset, batch_size=batch_size, num_workers=num_workers, shuffle=False)\n",
        "\n",
        "print(f\"There are {len(train_dataset)} train images and {len(val_dataset)} val images\")"
      ]
    },
    {
      "cell_type": "code",
      "execution_count": null,
      "id": "frequent-security",
      "metadata": {
        "id": "frequent-security"
      },
      "outputs": [],
      "source": [
        "np.unique(train_dataset.targets, return_counts=True), np.unique(val_dataset.targets, return_counts=True)"
      ]
    },
    {
      "cell_type": "code",
      "execution_count": null,
      "id": "armed-transparency",
      "metadata": {
        "id": "armed-transparency"
      },
      "outputs": [],
      "source": [
        "model = PneumoniaModel()  "
      ]
    },
    {
      "cell_type": "code",
      "execution_count": null,
      "id": "formal-cherry",
      "metadata": {
        "id": "formal-cherry"
      },
      "outputs": [],
      "source": [
        "\n",
        "checkpoint_callback = ModelCheckpoint(\n",
        "    monitor='Val Acc',\n",
        "    save_top_k=10,\n",
        "    mode='max')"
      ]
    },
    {
      "cell_type": "code",
      "execution_count": null,
      "id": "cultural-lease",
      "metadata": {
        "id": "cultural-lease"
      },
      "outputs": [],
      "source": [
        "\n",
        "\n",
        "gpus = 1 \n",
        "trainer = pl.Trainer(gpus=gpus, logger=TensorBoardLogger(save_dir=\"./logs\"), log_every_n_steps=1,\n",
        "                     callbacks=checkpoint_callback,\n",
        "                     max_epochs=35)\n"
      ]
    },
    {
      "cell_type": "code",
      "execution_count": null,
      "id": "played-applicant",
      "metadata": {
        "id": "played-applicant"
      },
      "outputs": [],
      "source": [
        "trainer.fit(model, train_loader, val_loader)\n",
        "\n"
      ]
    },
    {
      "cell_type": "code",
      "execution_count": null,
      "id": "further-federation",
      "metadata": {
        "id": "further-federation",
        "scrolled": true
      },
      "outputs": [],
      "source": [
        "device = torch.device(\"cuda:0\" if torch.cuda.is_available() else \"cpu\")\n",
        "\n",
        "\n",
        "model = PneumoniaModel.load_from_checkpoint(\"weights/weights_1.ckpt\")\n",
        "model.eval()\n",
        "model.to(device)"
      ]
    },
    {
      "cell_type": "code",
      "execution_count": null,
      "id": "polyphonic-church",
      "metadata": {
        "id": "polyphonic-church"
      },
      "outputs": [],
      "source": [
        "preds = []\n",
        "labels = []\n",
        "\n",
        "with torch.no_grad():\n",
        "    for data, label in tqdm(val_dataset):\n",
        "        data = data.to(device).float().unsqueeze(0)\n",
        "        pred = torch.sigmoid(model(data)[0].cpu())\n",
        "        preds.append(pred)\n",
        "        labels.append(label)\n",
        "preds = torch.tensor(preds)\n",
        "labels = torch.tensor(labels).int()\n"
      ]
    },
    {
      "cell_type": "code",
      "execution_count": null,
      "id": "twenty-korea",
      "metadata": {
        "id": "twenty-korea"
      },
      "outputs": [],
      "source": [
        "acc = torchmetrics.Accuracy()(preds, labels)\n",
        "precision = torchmetrics.Precision()(preds, labels)\n",
        "recall = torchmetrics.Recall()(preds, labels)\n",
        "cm = torchmetrics.ConfusionMatrix(num_classes=2)(preds, labels)\n",
        "cm_threshed = torchmetrics.ConfusionMatrix(num_classes=2, threshold=0.25)(preds, labels)\n",
        "\n",
        "print(f\"Val Accuracy: {acc}\")\n",
        "print(f\"Val Precision: {precision}\")\n",
        "print(f\"Val Recall: {recall}\")\n",
        "print(f\"Confusion Matrix:\\n {cm}\")\n",
        "print(f\"Confusion Matrix 2:\\n {cm_threshed}\")"
      ]
    },
    {
      "cell_type": "code",
      "execution_count": null,
      "id": "collectible-cotton",
      "metadata": {
        "id": "collectible-cotton"
      },
      "outputs": [],
      "source": [
        "fig, axis = plt.subplots(3, 3, figsize=(9, 9))\n",
        "\n",
        "for i in range(3):\n",
        "    for j in range(3):\n",
        "        rnd_idx = np.random.randint(0, len(preds))\n",
        "        axis[i][j].imshow(val_dataset[rnd_idx][0][0], cmap=\"bone\")\n",
        "        axis[i][j].set_title(f\"Pred:{int(preds[rnd_idx] > 0.5)}, Label:{labels[rnd_idx]}\")\n",
        "        axis[i][j].axis(\"off\")\n"
      ]
    }
  ],
  "metadata": {
    "colab": {
      "provenance": []
    },
    "kernelspec": {
      "display_name": "Python 3 (ipykernel)",
      "language": "python",
      "name": "python3"
    },
    "language_info": {
      "codemirror_mode": {
        "name": "ipython",
        "version": 3
      },
      "file_extension": ".py",
      "mimetype": "text/x-python",
      "name": "python",
      "nbconvert_exporter": "python",
      "pygments_lexer": "ipython3",
      "version": "3.8.0"
    }
  },
  "nbformat": 4,
  "nbformat_minor": 5
}
