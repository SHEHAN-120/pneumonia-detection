{
  "cells": [
    {
      "cell_type": "code",
      "execution_count": null,
      "id": "sealed-retreat",
      "metadata": {
        "id": "sealed-retreat"
      },
      "outputs": [],
      "source": [
        "%matplotlib notebook\n",
        "import torch\n",
        "import torchvision\n",
        "from torchvision import transforms\n",
        "import pytorch_lightning as pl\n",
        "import numpy as np\n",
        "import matplotlib.pyplot as plt"
      ]
    },
    {
      "cell_type": "code",
      "execution_count": null,
      "id": "latter-intake",
      "metadata": {
        "id": "latter-intake"
      },
      "outputs": [],
      "source": [
        "def load_file(path):\n",
        "    return np.load(path).astype(np.float32)\n"
      ]
    },
    {
      "cell_type": "code",
      "execution_count": null,
      "id": "painful-caribbean",
      "metadata": {
        "id": "painful-caribbean"
      },
      "outputs": [],
      "source": [
        "val_transforms = transforms.Compose([\n",
        "                                transforms.ToTensor(),\n",
        "                                transforms.Normalize(0.49, 0.248),\n",
        "\n",
        "])\n",
        "\n",
        "val_dataset = torchvision.datasets.DatasetFolder(\"Processed/val/\", loader=load_file, extensions=\"npy\", transform=val_transforms)"
      ]
    },
    {
      "cell_type": "code",
      "execution_count": null,
      "id": "clear-integration",
      "metadata": {
        "id": "clear-integration",
        "scrolled": true
      },
      "outputs": [],
      "source": [
        "temp_model = torchvision.models.resnet18()\n",
        "temp_model"
      ]
    },
    {
      "cell_type": "code",
      "execution_count": null,
      "id": "outer-trainer",
      "metadata": {
        "id": "outer-trainer",
        "scrolled": true
      },
      "outputs": [],
      "source": [
        "list(temp_model.children())[:-2]  "
      ]
    },
    {
      "cell_type": "code",
      "execution_count": null,
      "id": "through-commission",
      "metadata": {
        "id": "through-commission",
        "scrolled": true
      },
      "outputs": [],
      "source": [
        "torch.nn.Sequential(*list(temp_model.children())[:-2])"
      ]
    },
    {
      "cell_type": "code",
      "execution_count": null,
      "id": "motivated-eagle",
      "metadata": {
        "id": "motivated-eagle"
      },
      "outputs": [],
      "source": [
        "class PneumoniaModel(pl.LightningModule):\n",
        "    def __init__(self):\n",
        "        super().__init__()\n",
        "\n",
        "        self.model = torchvision.models.resnet18()\n",
        "        \n",
        "        self.model.conv1 = torch.nn.Conv2d(1, 64, kernel_size=(7, 7), stride=(2, 2), padding=(3, 3), bias=False)\n",
        "        \n",
        "        self.model.fc = torch.nn.Linear(in_features=512, out_features=1)\n",
        "\n",
        "        \n",
        "        self.feature_map = torch.nn.Sequential(*list(self.model.children())[:-2])\n",
        "    def forward(self, data):\n",
        "\n",
        "        \n",
        "        feature_map = self.feature_map(data)\n",
        "        \n",
        "        avg_pool_output = torch.nn.functional.adaptive_avg_pool2d(input=feature_map, output_size=(1, 1))\n",
        "        print(avg_pool_output.shape)\n",
        "        \n",
        "        avg_pool_output_flattened = torch.flatten(avg_pool_output)\n",
        "        print(avg_pool_output_flattened.shape)\n",
        "        \n",
        "        pred = self.model.fc(avg_pool_output_flattened)\n",
        "        return pred, feature_map\n",
        "\n"
      ]
    },
    {
      "cell_type": "code",
      "execution_count": null,
      "id": "alike-absence",
      "metadata": {
        "id": "alike-absence"
      },
      "outputs": [],
      "source": [
        "def cam(model, img):\n",
        "    with torch.no_grad():\n",
        "        pred, features = model(img.unsqueeze(0))\n",
        "    features = features.reshape((512, 49))\n",
        "    weight_params = list(model.model.fc.parameters())[0]\n",
        "    weight = weight_params[0].detach()\n",
        "\n",
        "\n",
        "    cam = torch.matmul(weight, features)\n",
        "    cam_img = cam.reshape(7, 7).cpu()\n",
        "    return cam_img, torch.sigmoid(pred)"
      ]
    },
    {
      "cell_type": "code",
      "execution_count": null,
      "id": "seventh-activity",
      "metadata": {
        "id": "seventh-activity",
        "scrolled": true
      },
      "outputs": [],
      "source": [
        "\n",
        "model = PneumoniaModel.load_from_checkpoint(\"weights/weights_3.ckpt\", strict=False)\n",
        "model.eval()"
      ]
    },
    {
      "cell_type": "code",
      "execution_count": null,
      "id": "stable-driving",
      "metadata": {
        "id": "stable-driving"
      },
      "outputs": [],
      "source": [
        "def cam(model, img):\n",
        "    \n",
        "    with torch.no_grad():\n",
        "        pred, features = model(img.unsqueeze(0))\n",
        "    b, c, h, w = features.shape\n",
        "\n",
        "    \n",
        "    features = features.reshape((c, h*w))\n",
        "\n",
        "    \n",
        "    weight_params = list(model.model.fc.parameters())[0]\n",
        "\n",
        "    \n",
        "    weight = weight_params[0].detach()\n",
        "    print(weight.shape)\n",
        "    \n",
        "    cam = torch.matmul(weight, features)\n",
        "    print(features.shape)\n",
        "\n",
        "   \n",
        "    cam = cam - torch.min(cam)\n",
        "    cam_img = cam / torch.max(cam)\n",
        "    \n",
        "    cam_img = cam_img.reshape(h, w).cpu()\n",
        "\n",
        "    return cam_img, torch.sigmoid(pred)\n",
        "\n",
        "def visualize(img, heatmap, pred):\n",
        "    \n",
        "    img = img[0]\n",
        "    \n",
        "    heatmap = transforms.functional.resize(heatmap.unsqueeze(0), (img.shape[0], img.shape[1]))[0]\n",
        "\n",
        "    \n",
        "    fig, axis = plt.subplots(1, 2)\n",
        "\n",
        "    axis[0].imshow(img, cmap=\"bone\")\n",
        "    \n",
        "    axis[1].imshow(img, cmap=\"bone\")\n",
        "    axis[1].imshow(heatmap, alpha=0.5, cmap=\"jet\")\n",
        "    plt.title(f\"Pneumonia: {(pred > 0.5).item()}\")"
      ]
    },
    {
      "cell_type": "code",
      "execution_count": null,
      "id": "fresh-casino",
      "metadata": {
        "id": "fresh-casino"
      },
      "outputs": [],
      "source": [
        "def visualize(img, cam, pred):\n",
        "    img = img[0]\n",
        "    cam = transforms.functional.resize(cam.unsqueeze(0), (224, 224))[0]\n",
        "\n",
        "    fig, axis = plt.subplots(1, 2)\n",
        "    axis[0].imshow(img, cmap=\"bone\")\n",
        "    axis[1].imshow(img, cmap=\"bone\")\n",
        "    axis[1].imshow(cam, alpha=0.5, cmap=\"jet\")\n",
        "    plt.title(pred)"
      ]
    },
    {
      "cell_type": "code",
      "execution_count": null,
      "id": "assigned-replacement",
      "metadata": {
        "id": "assigned-replacement",
        "scrolled": true
      },
      "outputs": [],
      "source": [
        "img = val_dataset[-6][0]  \n",
        "activation_map, pred = cam(model, img)  "
      ]
    },
    {
      "cell_type": "code",
      "execution_count": null,
      "id": "hungarian-lighting",
      "metadata": {
        "id": "hungarian-lighting"
      },
      "outputs": [],
      "source": [
        "visualize(img, activation_map, pred)  "
      ]
    }
  ],
  "metadata": {
    "colab": {
      "provenance": []
    },
    "kernelspec": {
      "display_name": "Udemy",
      "language": "python",
      "name": "udemy"
    },
    "language_info": {
      "codemirror_mode": {
        "name": "ipython",
        "version": 3
      },
      "file_extension": ".py",
      "mimetype": "text/x-python",
      "name": "python",
      "nbconvert_exporter": "python",
      "pygments_lexer": "ipython3",
      "version": "3.7.0"
    }
  },
  "nbformat": 4,
  "nbformat_minor": 5
}
