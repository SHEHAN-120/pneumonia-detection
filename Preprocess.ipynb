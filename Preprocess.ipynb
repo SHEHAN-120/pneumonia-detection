{
  "cells": [
    {
      "cell_type": "code",
      "execution_count": null,
      "metadata": {
        "id": "EbzVWV9bPZj2"
      },
      "outputs": [],
      "source": [
        "from pathlib import Path\n",
        "import pydicom\n",
        "import numpy as np\n",
        "import cv2\n",
        "import pandas as pd\n",
        "import matplotlib.pyplot as plt\n",
        "from tqdm.notebook import tqdm"
      ]
    },
    {
      "cell_type": "code",
      "execution_count": null,
      "metadata": {
        "id": "NSvq4jnSPZj3"
      },
      "outputs": [],
      "source": [
        "labels = pd.read_csv(\"/path/to/rsna-pneumonia-detection-challenge/stage_2_train_labels.csv\")"
      ]
    },
    {
      "cell_type": "code",
      "execution_count": null,
      "metadata": {
        "id": "PRiClUw8PZj4"
      },
      "outputs": [],
      "source": [
        "labels.head(6)"
      ]
    },
    {
      "cell_type": "code",
      "execution_count": null,
      "metadata": {
        "id": "a5NhkXnyPZj4"
      },
      "outputs": [],
      "source": [
        "\n",
        "labels = labels.drop_duplicates(\"patientId\")"
      ]
    },
    {
      "cell_type": "code",
      "execution_count": null,
      "metadata": {
        "id": "prCJbRSIPZj5"
      },
      "outputs": [],
      "source": [
        "labels.head()"
      ]
    },
    {
      "cell_type": "code",
      "execution_count": null,
      "metadata": {
        "id": "G5712WlpPZj5"
      },
      "outputs": [],
      "source": [
        "ROOT_PATH = Path(\"/path/to/rsna-pneumonia-detection-challenge/stage_2_train_images/\")\n",
        "SAVE_PATH = Path(\"Processed/\")"
      ]
    },
    {
      "cell_type": "code",
      "execution_count": null,
      "metadata": {
        "id": "vB5V8hw7PZj5"
      },
      "outputs": [],
      "source": [
        "fig, axis = plt.subplots(3, 3, figsize=(9, 9))\n",
        "c = 0\n",
        "for i in range(3):\n",
        "    for j in range(3):\n",
        "        patient_id = labels.patientId.iloc[c]\n",
        "        dcm_path = ROOT_PATH/patient_id\n",
        "        dcm_path = dcm_path.with_suffix(\".dcm\")\n",
        "        dcm = pydicom.read_file(dcm_path).pixel_array\n",
        "\n",
        "        label = labels[\"Target\"].iloc[c]\n",
        "\n",
        "        axis[i][j].imshow(dcm, cmap=\"bone\")\n",
        "        axis[i][j].set_title(label)\n",
        "        c+=1"
      ]
    },
    {
      "cell_type": "code",
      "execution_count": null,
      "metadata": {
        "id": "WLsn9lmzPZj6",
        "scrolled": true
      },
      "outputs": [],
      "source": [
        "sums = 0\n",
        "sums_squared = 0\n",
        "\n",
        "for c, patient_id in enumerate(tqdm(labels.patientId)):\n",
        "    dcm_path = ROOT_PATH/patient_id  \n",
        "    dcm_path = dcm_path.with_suffix(\".dcm\") \n",
        "    \n",
        "    dcm = pydicom.read_file(dcm_path).pixel_array / 255\n",
        "\n",
        "    \n",
        "    dcm_array = cv2.resize(dcm, (224, 224)).astype(np.float16)\n",
        "\n",
        "    \n",
        "    label = labels.Target.iloc[c]\n",
        "\n",
        "    \n",
        "    train_or_val = \"train\" if c < 24000 else \"val\"\n",
        "\n",
        "    current_save_path = SAVE_PATH/train_or_val/str(label) \n",
        "    current_save_path.mkdir(parents=True, exist_ok=True)\n",
        "    np.save(current_save_path/patient_id, dcm_array)  \n",
        "\n",
        "    normalizer = dcm_array.shape[0] * dcm_array.shape[1]  \n",
        "    if train_or_val == \"train\":  \n",
        "        sums += np.sum(dcm_array) / normalizer\n",
        "        sums_squared += (np.power(dcm_array, 2).sum()) / normalizer\n"
      ]
    },
    {
      "cell_type": "code",
      "execution_count": null,
      "metadata": {
        "id": "x38UsJttPZj6"
      },
      "outputs": [],
      "source": [
        "mean = sums / 24000\n",
        "std = np.sqrt(sums_squared / 24000 - (mean**2))"
      ]
    },
    {
      "cell_type": "code",
      "execution_count": null,
      "metadata": {
        "id": "rgxRyIWMPZj6"
      },
      "outputs": [],
      "source": [
        "print(f\"Mean of Dataset: {mean}, STD: {std}\")"
      ]
    }
  ],
  "metadata": {
    "colab": {
      "provenance": []
    },
    "kernelspec": {
      "display_name": "Python 3 (ipykernel)",
      "language": "python",
      "name": "python3"
    },
    "language_info": {
      "codemirror_mode": {
        "name": "ipython",
        "version": 3
      },
      "file_extension": ".py",
      "mimetype": "text/x-python",
      "name": "python",
      "nbconvert_exporter": "python",
      "pygments_lexer": "ipython3",
      "version": "3.8.0"
    }
  },
  "nbformat": 4,
  "nbformat_minor": 0
}
